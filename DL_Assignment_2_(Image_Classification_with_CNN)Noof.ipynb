{
  "cells": [
    {
      "cell_type": "markdown",
      "metadata": {
        "id": "x6o7ocyI1trV"
      },
      "source": [
        "___\n",
        "\n",
        "<p style=\"text-align: center;\"><img src=\"https://docs.google.com/uc?id=1lY0Uj5R04yMY3-ZppPWxqCr5pvBLYPnV\" class=\"img-fluid\" alt=\"CLRSWY\"></p>\n",
        "\n",
        "___"
      ]
    },
    {
      "cell_type": "markdown",
      "metadata": {
        "id": "Z0sEhwsM1trX"
      },
      "source": [
        "<h1 style=\"text-align: center;\">Deep Learning<br><br>Assignment-2 (CNN)<br><br>Image Classification with CNN<br><h1>"
      ]
    },
    {
      "cell_type": "markdown",
      "metadata": {
        "id": "NRZ2-Hu81trX"
      },
      "source": [
        "# Task and Dataset Info\n",
        "\n",
        "Welcome to second assignment of Deep learning lesson. Follow the instructions and complete the assignment.\n",
        "\n",
        "**Build an image classifier with Convolutional Neural Networks for the Fashion MNIST dataset. This data set includes 10 labels of different clothing types with 28 by 28 *grayscale* images. There is a training set of 60,000 images and 10,000 test images.**\n",
        "\n",
        "    Label\tDescription\n",
        "    0\t    T-shirt/top\n",
        "    1\t    Trouser\n",
        "    2\t    Pullover\n",
        "    3\t    Dress\n",
        "    4\t    Coat\n",
        "    5\t    Sandal\n",
        "    6\t    Shirt\n",
        "    7\t    Sneaker\n",
        "    8\t    Bag\n",
        "    9\t    Ankle boot"
      ]
    },
    {
      "cell_type": "markdown",
      "metadata": {
        "id": "Cn_dQtZ21trX"
      },
      "source": [
        "# Import Libraries"
      ]
    },
    {
      "cell_type": "code",
      "execution_count": 1,
      "metadata": {
        "id": "Gt1HyjKS1trY"
      },
      "outputs": [],
      "source": [
        "import keras\n",
        "import tensorflow as tf\n",
        "from matplotlib import pyplot\n",
        "from keras.datasets import fashion_mnist\n",
        "from tensorflow.keras.models import Sequential\n",
        "from tensorflow.keras.layers import Conv2D, MaxPooling2D, Dense, Flatten, Dropout, BatchNormalization\n",
        "from tensorflow.keras.optimizers import Adam\n",
        "from tensorflow.keras.callbacks import TensorBoard\n",
        "import matplotlib.pyplot as plt\n",
        "import seaborn as sns\n",
        "from tensorflow.keras.callbacks import EarlyStopping\n",
        "import numpy as np"
      ]
    },
    {
      "cell_type": "markdown",
      "metadata": {
        "id": "kA3Kgtth1trY"
      },
      "source": [
        "# Recognizing and Understanding Data\n",
        "\n",
        "**TASK 1: Run the code below to download the dataset using Keras.**"
      ]
    },
    {
      "cell_type": "code",
      "execution_count": 2,
      "metadata": {
        "colab": {
          "base_uri": "https://localhost:8080/"
        },
        "id": "UBnYAVw11trY",
        "outputId": "eef68d6b-30c1-48d8-e246-97891def243f"
      },
      "outputs": [
        {
          "output_type": "stream",
          "name": "stdout",
          "text": [
            "Downloading data from https://storage.googleapis.com/tensorflow/tf-keras-datasets/train-labels-idx1-ubyte.gz\n",
            "29515/29515 [==============================] - 0s 0us/step\n",
            "Downloading data from https://storage.googleapis.com/tensorflow/tf-keras-datasets/train-images-idx3-ubyte.gz\n",
            "26421880/26421880 [==============================] - 0s 0us/step\n",
            "Downloading data from https://storage.googleapis.com/tensorflow/tf-keras-datasets/t10k-labels-idx1-ubyte.gz\n",
            "5148/5148 [==============================] - 0s 0us/step\n",
            "Downloading data from https://storage.googleapis.com/tensorflow/tf-keras-datasets/t10k-images-idx3-ubyte.gz\n",
            "4422102/4422102 [==============================] - 0s 0us/step\n"
          ]
        }
      ],
      "source": [
        "from tensorflow.keras.datasets import fashion_mnist\n",
        "\n",
        "(x_train, y_train), (x_test, y_test) = fashion_mnist.load_data()"
      ]
    },
    {
      "cell_type": "code",
      "execution_count": 3,
      "metadata": {
        "colab": {
          "base_uri": "https://localhost:8080/"
        },
        "id": "JeZi5drZ1trY",
        "outputId": "8f91b0e0-0ae8-4d3b-bd7f-411b7a1e190e"
      },
      "outputs": [
        {
          "output_type": "stream",
          "name": "stdout",
          "text": [
            "Train: X=(60000, 28, 28), y=(60000,)\n",
            "Test: X=(10000, 28, 28), y=(10000,)\n"
          ]
        }
      ],
      "source": [
        "# summarize loaded dataset\n",
        "print('Train: X=%s, y=%s' % (x_train.shape, y_train.shape))\n",
        "print('Test: X=%s, y=%s' % (x_test.shape, y_test.shape))"
      ]
    },
    {
      "cell_type": "markdown",
      "metadata": {
        "id": "20IuC4021trZ"
      },
      "source": [
        "**TASK 2: Use matplotlib to view an image from the data set. It can be any image from the data set.**"
      ]
    },
    {
      "cell_type": "code",
      "source": [
        "# Print training set shape - note there are 60,000 training data of image size of 28x28, 60,000 train labels)\n",
        "print(\"x_train shape:\", x_train.shape, \"y_train shape:\", y_train.shape)\n",
        "\n",
        "# Print the number of training and test datasets\n",
        "print(x_train.shape[0], 'train set')\n",
        "print(x_test.shape[0], 'test set')\n",
        "\n",
        "# Define the text labels\n",
        "classes= [\"T-shirt/top\",  # index 0\n",
        "          \"Trouser\",      # index 1\n",
        "          \"Pullover\",     # index 2\n",
        "          \"Dress\",        # index 3\n",
        "          \"Coat\",         # index 4\n",
        "          \"Sandal\",       # index 5\n",
        "          \"Shirt\",        # index 6\n",
        "          \"Sneaker\",      # index 7\n",
        "          \"Bag\",          # index 8\n",
        "          \"Ankle boot\"]   # index 9\n",
        "\n",
        "# Image index, you can pick any number between 0 and 59,999\n",
        "img_index = 5\n",
        "# y_train contains the lables, ranging from 0 to 9\n",
        "label_index = y_train[img_index]\n",
        "# Print the label, for example 2 Pullover\n",
        "print (\"y = \" + str(label_index) + \" \" +(classes[label_index]))\n",
        "# # Show one of the images from the training dataset\n",
        "plt.imshow(x_train[img_index])"
      ],
      "metadata": {
        "colab": {
          "base_uri": "https://localhost:8080/",
          "height": 519
        },
        "id": "qMGJO6YqzG6M",
        "outputId": "c6d6617b-5e3a-46bd-fe85-a59501bfdc80"
      },
      "execution_count": 4,
      "outputs": [
        {
          "output_type": "stream",
          "name": "stdout",
          "text": [
            "x_train shape: (60000, 28, 28) y_train shape: (60000,)\n",
            "60000 train set\n",
            "10000 test set\n",
            "y = 2 Pullover\n"
          ]
        },
        {
          "output_type": "execute_result",
          "data": {
            "text/plain": [
              "<matplotlib.image.AxesImage at 0x7bc2907d95d0>"
            ]
          },
          "metadata": {},
          "execution_count": 4
        },
        {
          "output_type": "display_data",
          "data": {
            "text/plain": [
              "<Figure size 640x480 with 1 Axes>"
            ],
            "image/png": "[encoded data removed]"
          },
          "metadata": {}
        }
      ]
    },
    {
      "cell_type": "code",
      "execution_count": 5,
      "metadata": {
        "colab": {
          "base_uri": "https://localhost:8080/",
          "height": 433
        },
        "id": "Foacw_M31trZ",
        "outputId": "05f62272-c930-4c64-891a-cfc7b66992f6"
      },
      "outputs": [
        {
          "output_type": "display_data",
          "data": {
            "text/plain": [
              "<Figure size 640x480 with 9 Axes>"
            ],
            "image/png": "[encoded data removed]"
          },
          "metadata": {}
        }
      ],
      "source": [
        "# plot first few images\n",
        "for i in range(9):\n",
        " # define subplot\n",
        " pyplot.subplot(330 + 1 + i)\n",
        " # plot raw pixel data\n",
        " pyplot.imshow(x_train[i], cmap=pyplot.get_cmap('gray'))\n",
        "# show the figure\n",
        "pyplot.show()"
      ]
    },
    {
      "cell_type": "markdown",
      "metadata": {
        "id": "aKKapgXG1trZ"
      },
      "source": [
        "# Data Preprocessing\n",
        "\n",
        "**TASK 3: Normalize the X train and X test data by dividing by the max value of the image arrays.**"
      ]
    },
    {
      "cell_type": "code",
      "execution_count": 6,
      "metadata": {
        "id": "1j4JVGCj1trZ"
      },
      "outputs": [],
      "source": [
        "x_train = x_train.astype('float32') / 255\n",
        "x_test = x_test.astype('float32') / 255"
      ]
    },
    {
      "cell_type": "code",
      "execution_count": 7,
      "metadata": {
        "colab": {
          "base_uri": "https://localhost:8080/"
        },
        "id": "3GEZXOAP1trZ",
        "outputId": "fbe7785b-d286-46af-8858-6dcd143b1323"
      },
      "outputs": [
        {
          "output_type": "stream",
          "name": "stdout",
          "text": [
            "Number of train data - 60000\n",
            "Number of test data - 10000\n"
          ]
        }
      ],
      "source": [
        "print(\"Number of train data - \" + str(len(x_train)))\n",
        "print(\"Number of test data - \" + str(len(x_test)))"
      ]
    },
    {
      "cell_type": "code",
      "execution_count": 8,
      "metadata": {
        "id": "XoN2bSni1tra"
      },
      "outputs": [],
      "source": [
        "# Further break training data into train / validation sets (# put 5000 into validation set and keep remaining 55,000 for train)\n",
        "(x_train, x_valid) = x_train[5000:], x_train[:5000]\n",
        "(y_train, y_valid) = y_train[5000:], y_train[:5000]"
      ]
    },
    {
      "cell_type": "markdown",
      "metadata": {
        "id": "KpCjLpJT1tra"
      },
      "source": [
        "**Task 4: Reshape the X arrays to include a 4 dimension of the single channel. Similar to what we did for the numbers MNIST data set.**"
      ]
    },
    {
      "cell_type": "code",
      "execution_count": 9,
      "metadata": {
        "id": "WXzlcr3F1tra"
      },
      "outputs": [],
      "source": [
        "# Reshape input data from (28, 28) to (28, 28, 1)\n",
        "w, h = 28, 28\n",
        "x_train = x_train.reshape(x_train.shape[0], w, h, 1)\n",
        "x_valid = x_valid.reshape(x_valid.shape[0], w, h, 1)\n",
        "x_test = x_test.reshape(x_test.shape[0], w, h, 1)"
      ]
    },
    {
      "cell_type": "markdown",
      "metadata": {
        "id": "2TgeL8nN1tra"
      },
      "source": [
        "**TASK 5: Convert the y_train and y_test values to be one-hot encoded for categorical analysis by Keras.**"
      ]
    },
    {
      "cell_type": "code",
      "execution_count": 10,
      "metadata": {
        "id": "8MDae-f71tra"
      },
      "outputs": [],
      "source": [
        "# One-hot encode the labels\n",
        "y_train = tf.keras.utils.to_categorical(y_train, 10)\n",
        "y_valid = tf.keras.utils.to_categorical(y_valid, 10)\n",
        "y_test = tf.keras.utils.to_categorical(y_test, 10)"
      ]
    },
    {
      "cell_type": "code",
      "execution_count": 11,
      "metadata": {
        "colab": {
          "base_uri": "https://localhost:8080/"
        },
        "id": "QPc-h61T1tra",
        "outputId": "63adefcf-9066-4d59-c114-6123cccac838"
      },
      "outputs": [
        {
          "output_type": "stream",
          "name": "stdout",
          "text": [
            "x_train shape: (55000, 28, 28, 1) y_train shape: (55000, 10)\n"
          ]
        }
      ],
      "source": [
        "# Print training set shape\n",
        "print(\"x_train shape:\", x_train.shape, \"y_train shape:\", y_train.shape)"
      ]
    },
    {
      "cell_type": "code",
      "execution_count": 12,
      "metadata": {
        "colab": {
          "base_uri": "https://localhost:8080/"
        },
        "id": "8B1FWCR11tra",
        "outputId": "4283843b-bb98-4184-adac-e385a5098bae"
      },
      "outputs": [
        {
          "output_type": "stream",
          "name": "stdout",
          "text": [
            "55000 train set\n",
            "5000 validation set\n",
            "10000 test set\n"
          ]
        }
      ],
      "source": [
        "# Print the number of training, validation, and test datasets\n",
        "print(x_train.shape[0], 'train set')\n",
        "print(x_valid.shape[0], 'validation set')\n",
        "print(x_test.shape[0], 'test set')"
      ]
    },
    {
      "cell_type": "markdown",
      "metadata": {
        "id": "ozkVj7Tl1tra"
      },
      "source": [
        "# Modeling"
      ]
    },
    {
      "cell_type": "markdown",
      "metadata": {
        "id": "LSldtSgP1tra"
      },
      "source": [
        "## Create the model\n",
        "\n",
        "**TASK 5: Use Keras to create a model consisting of at least the following layers (but feel free to experiment):**\n",
        "\n",
        "* 2D Convolutional Layer, filters=28 and kernel_size=(3,3)\n",
        "* Pooling Layer where pool_size = (2,2) strides=(1,1)\n",
        "\n",
        "* Flatten Layer\n",
        "* Dense Layer (128 Neurons, but feel free to play around with this value), RELU activation\n",
        "\n",
        "* Final Dense Layer of 10 Neurons with a softmax activation\n",
        "\n",
        "**Then compile the model with these parameters: loss='categorical_crossentropy', optimizer='rmsprop', metrics=['accuracy']**"
      ]
    },
    {
      "cell_type": "code",
      "execution_count": 14,
      "metadata": {
        "id": "Q7EZop611tra"
      },
      "outputs": [],
      "source": [
        "model = tf.keras.Sequential()\n",
        "\n",
        "# Must define the input shape in the first layer of the neural network\n",
        "model.add(tf.keras.layers.Conv2D(filters=28, kernel_size=(3,3), activation='relu', input_shape=(28,28,1)))\n",
        "model.add(tf.keras.layers.MaxPooling2D(pool_size=(2,2)))\n",
        "\n",
        "model.add(tf.keras.layers.Conv2D(filters=16, kernel_size=(2,2), activation='relu'))\n",
        "model.add(tf.keras.layers.MaxPooling2D(pool_size=(2,2)))\n",
        "\n",
        "model.add(tf.keras.layers.Conv2D(filters=32, kernel_size=(2,2), activation='relu'))\n",
        "model.add(tf.keras.layers.MaxPooling2D(pool_size=(2,2)))\n",
        "\n",
        "\n",
        "model.add(tf.keras.layers.Flatten())\n",
        "model.add(tf.keras.layers.Dense(128, activation='relu'))\n",
        "model.add(tf.keras.layers.Dense(64, activation='relu'))\n",
        "model.add(tf.keras.layers.Dense(32, activation='relu'))\n",
        "model.add(tf.keras.layers.Dense(16, activation='relu'))\n",
        "model.add(tf.keras.layers.Dense(10, activation='softmax'))"
      ]
    },
    {
      "cell_type": "code",
      "source": [
        "# Take a look at the model summary\n",
        "model.summary()"
      ],
      "metadata": {
        "colab": {
          "base_uri": "https://localhost:8080/"
        },
        "id": "1nK2gaLI-BHr",
        "outputId": "15543783-ab36-49a5-c8fc-76895af6d2d9"
      },
      "execution_count": 15,
      "outputs": [
        {
          "output_type": "stream",
          "name": "stdout",
          "text": [
            "Model: \"sequential\"\n",
            "_________________________________________________________________\n",
            " Layer (type)                Output Shape              Param #   \n",
            "=================================================================\n",
            " conv2d (Conv2D)             (None, 26, 26, 28)        280       \n",
            "                                                                 \n",
            " max_pooling2d (MaxPooling2  (None, 13, 13, 28)        0         \n",
            " D)                                                              \n",
            "                                                                 \n",
            " conv2d_1 (Conv2D)           (None, 12, 12, 16)        1808      \n",
            "                                                                 \n",
            " max_pooling2d_1 (MaxPoolin  (None, 6, 6, 16)          0         \n",
            " g2D)                                                            \n",
            "                                                                 \n",
            " conv2d_2 (Conv2D)           (None, 5, 5, 32)          2080      \n",
            "                                                                 \n",
            " max_pooling2d_2 (MaxPoolin  (None, 2, 2, 32)          0         \n",
            " g2D)                                                            \n",
            "                                                                 \n",
            " flatten (Flatten)           (None, 128)               0         \n",
            "                                                                 \n",
            " dense (Dense)               (None, 128)               16512     \n",
            "                                                                 \n",
            " dense_1 (Dense)             (None, 64)                8256      \n",
            "                                                                 \n",
            " dense_2 (Dense)             (None, 32)                2080      \n",
            "                                                                 \n",
            " dense_3 (Dense)             (None, 16)                528       \n",
            "                                                                 \n",
            " dense_4 (Dense)             (None, 10)                170       \n",
            "                                                                 \n",
            "=================================================================\n",
            "Total params: 31714 (123.88 KB)\n",
            "Trainable params: 31714 (123.88 KB)\n",
            "Non-trainable params: 0 (0.00 Byte)\n",
            "_________________________________________________________________\n"
          ]
        }
      ]
    },
    {
      "cell_type": "code",
      "source": [
        "early_stop = EarlyStopping(\n",
        "    monitor=\"val_loss\", mode=\"min\", verbose=1, patience=5, restore_best_weights=True\n",
        ")"
      ],
      "metadata": {
        "id": "ikaZThG3_YSj"
      },
      "execution_count": 16,
      "outputs": []
    },
    {
      "cell_type": "code",
      "source": [
        "model.compile(loss='categorical_crossentropy',\n",
        "             optimizer='rmsprop',\n",
        "             metrics=['accuracy'])"
      ],
      "metadata": {
        "id": "8TEpbnF8-P5w"
      },
      "execution_count": 17,
      "outputs": []
    },
    {
      "cell_type": "markdown",
      "metadata": {
        "id": "k8HmH3MK1tra"
      },
      "source": [
        "##  Model Training\n",
        "\n",
        "**TASK 6: Train/Fit the model to the x_train set by using EarlyStop. Amount of epochs is up to you.**"
      ]
    },
    {
      "cell_type": "code",
      "execution_count": 18,
      "metadata": {
        "colab": {
          "base_uri": "https://localhost:8080/"
        },
        "id": "CZvgNtbs1tra",
        "outputId": "601e0a26-67f7-4d5e-9166-1391598efc87"
      },
      "outputs": [
        {
          "output_type": "stream",
          "name": "stdout",
          "text": [
            "Epoch 1/100\n",
            "860/860 [==============================] - 22s 9ms/step - loss: 0.8355 - accuracy: 0.6897 - val_loss: 0.5277 - val_accuracy: 0.7984\n",
            "Epoch 2/100\n",
            "860/860 [==============================] - 4s 5ms/step - loss: 0.5115 - accuracy: 0.8086 - val_loss: 0.4932 - val_accuracy: 0.8132\n",
            "Epoch 3/100\n",
            "860/860 [==============================] - 5s 6ms/step - loss: 0.4405 - accuracy: 0.8359 - val_loss: 0.4007 - val_accuracy: 0.8530\n",
            "Epoch 4/100\n",
            "860/860 [==============================] - 5s 5ms/step - loss: 0.3956 - accuracy: 0.8522 - val_loss: 0.4218 - val_accuracy: 0.8488\n",
            "Epoch 5/100\n",
            "860/860 [==============================] - 4s 5ms/step - loss: 0.3709 - accuracy: 0.8621 - val_loss: 0.4124 - val_accuracy: 0.8430\n",
            "Epoch 6/100\n",
            "860/860 [==============================] - 5s 6ms/step - loss: 0.3504 - accuracy: 0.8703 - val_loss: 0.3571 - val_accuracy: 0.8710\n",
            "Epoch 7/100\n",
            "860/860 [==============================] - 4s 5ms/step - loss: 0.3350 - accuracy: 0.8765 - val_loss: 0.3774 - val_accuracy: 0.8528\n",
            "Epoch 8/100\n",
            "860/860 [==============================] - 5s 6ms/step - loss: 0.3215 - accuracy: 0.8802 - val_loss: 0.3392 - val_accuracy: 0.8722\n",
            "Epoch 9/100\n",
            "860/860 [==============================] - 5s 5ms/step - loss: 0.3092 - accuracy: 0.8863 - val_loss: 0.3374 - val_accuracy: 0.8754\n",
            "Epoch 10/100\n",
            "860/860 [==============================] - 4s 5ms/step - loss: 0.2987 - accuracy: 0.8879 - val_loss: 0.3612 - val_accuracy: 0.8672\n",
            "Epoch 11/100\n",
            "860/860 [==============================] - 5s 6ms/step - loss: 0.2885 - accuracy: 0.8934 - val_loss: 0.3127 - val_accuracy: 0.8832\n",
            "Epoch 12/100\n",
            "860/860 [==============================] - 5s 5ms/step - loss: 0.2813 - accuracy: 0.8960 - val_loss: 0.3051 - val_accuracy: 0.8830\n",
            "Epoch 13/100\n",
            "860/860 [==============================] - 5s 5ms/step - loss: 0.2736 - accuracy: 0.8989 - val_loss: 0.3764 - val_accuracy: 0.8512\n",
            "Epoch 14/100\n",
            "860/860 [==============================] - 5s 6ms/step - loss: 0.2679 - accuracy: 0.9012 - val_loss: 0.2956 - val_accuracy: 0.8932\n",
            "Epoch 15/100\n",
            "860/860 [==============================] - 4s 5ms/step - loss: 0.2626 - accuracy: 0.9030 - val_loss: 0.3035 - val_accuracy: 0.8918\n",
            "Epoch 16/100\n",
            "860/860 [==============================] - 5s 6ms/step - loss: 0.2580 - accuracy: 0.9050 - val_loss: 0.2846 - val_accuracy: 0.8934\n",
            "Epoch 17/100\n",
            "860/860 [==============================] - 4s 5ms/step - loss: 0.2517 - accuracy: 0.9069 - val_loss: 0.3162 - val_accuracy: 0.8938\n",
            "Epoch 18/100\n",
            "860/860 [==============================] - 5s 5ms/step - loss: 0.2480 - accuracy: 0.9078 - val_loss: 0.3055 - val_accuracy: 0.8942\n",
            "Epoch 19/100\n",
            "860/860 [==============================] - 5s 6ms/step - loss: 0.2433 - accuracy: 0.9087 - val_loss: 0.3152 - val_accuracy: 0.8852\n",
            "Epoch 20/100\n",
            "860/860 [==============================] - 4s 5ms/step - loss: 0.2402 - accuracy: 0.9108 - val_loss: 0.3118 - val_accuracy: 0.8896\n",
            "Epoch 21/100\n",
            "857/860 [============================>.] - ETA: 0s - loss: 0.2378 - accuracy: 0.9114Restoring model weights from the end of the best epoch: 16.\n",
            "860/860 [==============================] - 5s 6ms/step - loss: 0.2380 - accuracy: 0.9115 - val_loss: 0.2945 - val_accuracy: 0.8962\n",
            "Epoch 21: early stopping\n"
          ]
        },
        {
          "output_type": "execute_result",
          "data": {
            "text/plain": [
              "<keras.src.callbacks.History at 0x7bc277dddd80>"
            ]
          },
          "metadata": {},
          "execution_count": 18
        }
      ],
      "source": [
        "from keras.callbacks import ModelCheckpoint\n",
        "\n",
        "model.fit(x_train,\n",
        "         y_train,\n",
        "         batch_size=64,\n",
        "         epochs=100,\n",
        "         validation_data=(x_valid, y_valid),\n",
        "         callbacks=[early_stop]\n",
        "          )"
      ]
    },
    {
      "cell_type": "code",
      "execution_count": 19,
      "metadata": {
        "colab": {
          "base_uri": "https://localhost:8080/"
        },
        "id": "F_Ik_ruT1trb",
        "outputId": "8f81ad35-078e-486d-ec78-11716bfc3789"
      },
      "outputs": [
        {
          "output_type": "execute_result",
          "data": {
            "text/plain": [
              "{'loss': [0.8354696035385132,\n",
              "  0.511458158493042,\n",
              "  0.4405269920825958,\n",
              "  0.3956453502178192,\n",
              "  0.3709392547607422,\n",
              "  0.350369930267334,\n",
              "  0.33496278524398804,\n",
              "  0.32146185636520386,\n",
              "  0.30921655893325806,\n",
              "  0.29869183897972107,\n",
              "  0.28851234912872314,\n",
              "  0.28128334879875183,\n",
              "  0.2735634446144104,\n",
              "  0.2679283618927002,\n",
              "  0.26263508200645447,\n",
              "  0.2580343186855316,\n",
              "  0.25171440839767456,\n",
              "  0.24802933633327484,\n",
              "  0.2432895302772522,\n",
              "  0.24017570912837982,\n",
              "  0.23798976838588715],\n",
              " 'accuracy': [0.6897454261779785,\n",
              "  0.8086181879043579,\n",
              "  0.8358908891677856,\n",
              "  0.8521999716758728,\n",
              "  0.8621090650558472,\n",
              "  0.8702545166015625,\n",
              "  0.8765454292297363,\n",
              "  0.8801817893981934,\n",
              "  0.8862909078598022,\n",
              "  0.8878545165061951,\n",
              "  0.8933818340301514,\n",
              "  0.8960000276565552,\n",
              "  0.8989272713661194,\n",
              "  0.9012181758880615,\n",
              "  0.90303635597229,\n",
              "  0.9049636125564575,\n",
              "  0.9069091081619263,\n",
              "  0.907763659954071,\n",
              "  0.9086545705795288,\n",
              "  0.9108181595802307,\n",
              "  0.9114545583724976],\n",
              " 'val_loss': [0.5276506543159485,\n",
              "  0.4932209551334381,\n",
              "  0.4007209539413452,\n",
              "  0.42175590991973877,\n",
              "  0.4124191999435425,\n",
              "  0.3571377992630005,\n",
              "  0.3773576319217682,\n",
              "  0.33916717767715454,\n",
              "  0.33736953139305115,\n",
              "  0.3612290620803833,\n",
              "  0.3127063512802124,\n",
              "  0.3050730228424072,\n",
              "  0.37638968229293823,\n",
              "  0.29555919766426086,\n",
              "  0.3034763038158417,\n",
              "  0.2846376299858093,\n",
              "  0.3161807954311371,\n",
              "  0.3055345118045807,\n",
              "  0.3151623606681824,\n",
              "  0.3117983043193817,\n",
              "  0.29450470209121704],\n",
              " 'val_accuracy': [0.7983999848365784,\n",
              "  0.8131999969482422,\n",
              "  0.8529999852180481,\n",
              "  0.848800003528595,\n",
              "  0.8429999947547913,\n",
              "  0.8709999918937683,\n",
              "  0.8528000116348267,\n",
              "  0.8722000122070312,\n",
              "  0.8754000067710876,\n",
              "  0.8672000169754028,\n",
              "  0.8831999897956848,\n",
              "  0.8830000162124634,\n",
              "  0.8511999845504761,\n",
              "  0.8931999802589417,\n",
              "  0.8917999863624573,\n",
              "  0.8934000134468079,\n",
              "  0.8938000202178955,\n",
              "  0.8942000269889832,\n",
              "  0.885200023651123,\n",
              "  0.8895999789237976,\n",
              "  0.8962000012397766]}"
            ]
          },
          "metadata": {},
          "execution_count": 19
        }
      ],
      "source": [
        "history = model.history.history\n",
        "history"
      ]
    },
    {
      "cell_type": "code",
      "execution_count": 20,
      "metadata": {
        "id": "kPxIqzdm1tr5"
      },
      "outputs": [],
      "source": [
        "import numpy as np\n",
        "import pandas as pd"
      ]
    },
    {
      "cell_type": "code",
      "source": [
        "loss_df = pd.DataFrame(history)\n",
        "loss_df.plot()"
      ],
      "metadata": {
        "colab": {
          "base_uri": "https://localhost:8080/",
          "height": 448
        },
        "id": "3_a6KcTX6alV",
        "outputId": "3af5d2b7-f96e-4980-8557-a1dcbeb84665"
      },
      "execution_count": 21,
      "outputs": [
        {
          "output_type": "execute_result",
          "data": {
            "text/plain": [
              "<Axes: >"
            ]
          },
          "metadata": {},
          "execution_count": 21
        },
        {
          "output_type": "display_data",
          "data": {
            "text/plain": [
              "<Figure size 640x480 with 1 Axes>"
            ],
            "image/png": "[encoded data removed]"
          },
          "metadata": {}
        }
      ]
    },
    {
      "cell_type": "markdown",
      "metadata": {
        "id": "tHEqlDKW1trb"
      },
      "source": [
        "**TASK 7: Plot values of metrics you used in your model.**"
      ]
    },
    {
      "cell_type": "code",
      "execution_count": 22,
      "metadata": {
        "colab": {
          "base_uri": "https://localhost:8080/"
        },
        "id": "9Wu61uZT1trb",
        "outputId": "d197494c-efe8-4f7a-cfa3-69cc576a746e"
      },
      "outputs": [
        {
          "output_type": "stream",
          "name": "stdout",
          "text": [
            "Test loss: 0.33068621158599854\n",
            "Test accuracy: 0.8858000040054321\n"
          ]
        }
      ],
      "source": [
        "score = model.evaluate(x_test, y_test, verbose=0)\n",
        "print('Test loss:', score[0])\n",
        "print('Test accuracy:', score[1])"
      ]
    },
    {
      "cell_type": "code",
      "execution_count": 23,
      "metadata": {
        "colab": {
          "base_uri": "https://localhost:8080/",
          "height": 887
        },
        "id": "nlM8DV2T1tr5",
        "outputId": "33677267-dd4c-44ee-a7aa-ee1721078b29"
      },
      "outputs": [
        {
          "output_type": "display_data",
          "data": {
            "text/plain": [
              "<Figure size 640x480 with 1 Axes>"
            ],
            "image/png": "[encoded data removed]"
          },
          "metadata": {}
        },
        {
          "output_type": "display_data",
          "data": {
            "text/plain": [
              "<Figure size 640x480 with 1 Axes>"
            ],
            "image/png": "[encoded data removed]"
          },
          "metadata": {}
        }
      ],
      "source": [
        "import matplotlib.pyplot as plt\n",
        "%matplotlib inline\n",
        "acc = history['accuracy']\n",
        "val_acc = history['val_accuracy']\n",
        "loss = history['loss']\n",
        "val_loss = history['val_loss']\n",
        "\n",
        "epochs = range(len(acc))\n",
        "\n",
        "plt.plot(epochs, acc, 'bo', label='Training acc')\n",
        "plt.plot(epochs, val_acc, 'b', label='Validation acc')\n",
        "plt.title('Training and validation accuracy')\n",
        "plt.legend()\n",
        "\n",
        "plt.figure()\n",
        "\n",
        "plt.plot(epochs, loss, 'bo', label='Training loss')\n",
        "plt.plot(epochs, val_loss, 'b', label='Validation loss')\n",
        "plt.title('Training and validation loss')\n",
        "plt.legend()\n",
        "\n",
        "plt.show()"
      ]
    },
    {
      "cell_type": "markdown",
      "metadata": {
        "id": "WZ7JX4ah1trb"
      },
      "source": [
        "## Model Evaluation\n",
        "\n",
        "**TASK 8: Show the accuracy,precision,recall,f1-score the model achieved on the x_test data set. Keep in mind, there are quite a few ways to do this, but we recommend following the same procedure we showed in the MNIST lecture.**"
      ]
    },
    {
      "cell_type": "code",
      "execution_count": 24,
      "metadata": {
        "id": "rMu9u9Pw1trb"
      },
      "outputs": [],
      "source": [
        "from sklearn.metrics import (\n",
        "    classification_report,\n",
        "    confusion_matrix,\n",
        "    multilabel_confusion_matrix,\n",
        ")"
      ]
    },
    {
      "cell_type": "code",
      "source": [
        "model.evaluate(x_test, y_test)"
      ],
      "metadata": {
        "colab": {
          "base_uri": "https://localhost:8080/"
        },
        "id": "zkka5NYXvFDt",
        "outputId": "c588a492-c959-45d7-87e9-dfabc5f289d1"
      },
      "execution_count": 25,
      "outputs": [
        {
          "output_type": "stream",
          "name": "stdout",
          "text": [
            "313/313 [==============================] - 1s 3ms/step - loss: 0.3307 - accuracy: 0.8858\n"
          ]
        },
        {
          "output_type": "execute_result",
          "data": {
            "text/plain": [
              "[0.33068621158599854, 0.8858000040054321]"
            ]
          },
          "metadata": {},
          "execution_count": 25
        }
      ]
    },
    {
      "cell_type": "code",
      "source": [
        "score = model.evaluate(x_test, y_test, verbose=0)\n",
        "print(\"Test loss:\", score[0])\n",
        "print(\"Test accuracy:\", score[1])"
      ],
      "metadata": {
        "colab": {
          "base_uri": "https://localhost:8080/"
        },
        "id": "ArdKoPXWvI3e",
        "outputId": "4a31419a-29a5-41c7-9b93-7ca7eef6845d"
      },
      "execution_count": 26,
      "outputs": [
        {
          "output_type": "stream",
          "name": "stdout",
          "text": [
            "Test loss: 0.33068621158599854\n",
            "Test accuracy: 0.8858000040054321\n"
          ]
        }
      ]
    },
    {
      "cell_type": "code",
      "source": [
        "pred_prob = (model.predict(x_test) > 0.5).astype(\"int32\")\n",
        "pred_prob"
      ],
      "metadata": {
        "colab": {
          "base_uri": "https://localhost:8080/"
        },
        "id": "ECoADsBQvI6h",
        "outputId": "5c42716c-efdd-4786-efe3-c8f01b2f3dbb"
      },
      "execution_count": 27,
      "outputs": [
        {
          "output_type": "stream",
          "name": "stdout",
          "text": [
            "313/313 [==============================] - 1s 2ms/step\n"
          ]
        },
        {
          "output_type": "execute_result",
          "data": {
            "text/plain": [
              "array([[0, 0, 0, ..., 0, 0, 1],\n",
              "       [0, 0, 1, ..., 0, 0, 0],\n",
              "       [0, 1, 0, ..., 0, 0, 0],\n",
              "       ...,\n",
              "       [0, 0, 0, ..., 0, 1, 0],\n",
              "       [0, 1, 0, ..., 0, 0, 0],\n",
              "       [0, 0, 0, ..., 0, 0, 0]], dtype=int32)"
            ]
          },
          "metadata": {},
          "execution_count": 27
        }
      ]
    },
    {
      "cell_type": "code",
      "source": [
        "pred_prob.shape"
      ],
      "metadata": {
        "colab": {
          "base_uri": "https://localhost:8080/"
        },
        "id": "33mbF9DvvI9a",
        "outputId": "abbec964-dd99-477a-877e-cd7ebc397a0b"
      },
      "execution_count": 28,
      "outputs": [
        {
          "output_type": "execute_result",
          "data": {
            "text/plain": [
              "(10000, 10)"
            ]
          },
          "metadata": {},
          "execution_count": 28
        }
      ]
    },
    {
      "cell_type": "code",
      "source": [
        "pred_prob[0]"
      ],
      "metadata": {
        "colab": {
          "base_uri": "https://localhost:8080/"
        },
        "id": "LerzyGIQvJAg",
        "outputId": "19505b2d-d239-4253-90eb-06a6c2d8e308"
      },
      "execution_count": 29,
      "outputs": [
        {
          "output_type": "execute_result",
          "data": {
            "text/plain": [
              "array([0, 0, 0, 0, 0, 0, 0, 0, 0, 1], dtype=int32)"
            ]
          },
          "metadata": {},
          "execution_count": 29
        }
      ]
    },
    {
      "cell_type": "code",
      "source": [
        "np.argmax(pred_prob[0])"
      ],
      "metadata": {
        "colab": {
          "base_uri": "https://localhost:8080/"
        },
        "id": "HDFRJAfsvSU6",
        "outputId": "c997a457-2ff2-44d1-dd09-9be52179ac90"
      },
      "execution_count": 30,
      "outputs": [
        {
          "output_type": "execute_result",
          "data": {
            "text/plain": [
              "9"
            ]
          },
          "metadata": {},
          "execution_count": 30
        }
      ]
    },
    {
      "cell_type": "code",
      "source": [
        "y_pred = np.argmax(pred_prob, axis=1)\n",
        "y_pred"
      ],
      "metadata": {
        "colab": {
          "base_uri": "https://localhost:8080/"
        },
        "id": "KV4WSV4CvSYA",
        "outputId": "950ef32b-16cc-4b07-94a9-3efbc8bafaf1"
      },
      "execution_count": 31,
      "outputs": [
        {
          "output_type": "execute_result",
          "data": {
            "text/plain": [
              "array([9, 2, 1, ..., 8, 1, 0])"
            ]
          },
          "metadata": {},
          "execution_count": 31
        }
      ]
    },
    {
      "cell_type": "code",
      "source": [
        "y_pred.shape"
      ],
      "metadata": {
        "colab": {
          "base_uri": "https://localhost:8080/"
        },
        "id": "9G716AA9vSiM",
        "outputId": "b8b9dae1-dbd8-417e-aa26-d5381d844ba6"
      },
      "execution_count": 32,
      "outputs": [
        {
          "output_type": "execute_result",
          "data": {
            "text/plain": [
              "(10000,)"
            ]
          },
          "metadata": {},
          "execution_count": 32
        }
      ]
    },
    {
      "cell_type": "code",
      "source": [
        "y_pred_new = keras.utils.to_categorical(y_pred)"
      ],
      "metadata": {
        "id": "OODWhIYCztKL"
      },
      "execution_count": 33,
      "outputs": []
    },
    {
      "cell_type": "code",
      "source": [
        "print(classification_report(y_test, y_pred_new))"
      ],
      "metadata": {
        "colab": {
          "base_uri": "https://localhost:8080/"
        },
        "id": "qwBkMKtZvgGP",
        "outputId": "a6f6a7fe-a03e-4fc9-a028-d6cf91dd995e"
      },
      "execution_count": 34,
      "outputs": [
        {
          "output_type": "stream",
          "name": "stdout",
          "text": [
            "              precision    recall  f1-score   support\n",
            "\n",
            "           0       0.66      0.90      0.76      1000\n",
            "           1       0.99      0.96      0.97      1000\n",
            "           2       0.83      0.81      0.82      1000\n",
            "           3       0.92      0.86      0.89      1000\n",
            "           4       0.84      0.77      0.80      1000\n",
            "           5       0.98      0.95      0.96      1000\n",
            "           6       0.73      0.64      0.68      1000\n",
            "           7       0.93      0.97      0.95      1000\n",
            "           8       0.99      0.96      0.97      1000\n",
            "           9       0.97      0.95      0.96      1000\n",
            "\n",
            "   micro avg       0.88      0.88      0.88     10000\n",
            "   macro avg       0.88      0.88      0.88     10000\n",
            "weighted avg       0.88      0.88      0.88     10000\n",
            " samples avg       0.88      0.88      0.88     10000\n",
            "\n"
          ]
        }
      ]
    },
    {
      "cell_type": "code",
      "source": [
        "plt.figure(figsize=(15, 10))\n",
        "sns.heatmap(\n",
        "    confusion_matrix(y_test.argmax(axis=1), y_pred_new.argmax(axis=1)),\n",
        "    annot=True,\n",
        "    cmap=\"Blues\",\n",
        "    linewidths=0.5,\n",
        "    linecolor=\"black\",\n",
        "    fmt=\"g\",\n",
        "    annot_kws={\"size\": 15},\n",
        ")\n",
        "plt.show()"
      ],
      "metadata": {
        "colab": {
          "base_uri": "https://localhost:8080/",
          "height": 830
        },
        "id": "FDPr14XjvguR",
        "outputId": "81f5d212-c1f6-40db-bee3-f23176181ed1"
      },
      "execution_count": 35,
      "outputs": [
        {
          "output_type": "display_data",
          "data": {
            "text/plain": [
              "<Figure size 1500x1000 with 2 Axes>"
            ],
            "image/png": "[encoded data removed]"
          },
          "metadata": {}
        }
      ]
    },
    {
      "cell_type": "code",
      "execution_count": 36,
      "metadata": {
        "colab": {
          "base_uri": "https://localhost:8080/"
        },
        "id": "Reg47yqh1tr5",
        "outputId": "0ef2215c-62b3-4677-985c-66e626854541"
      },
      "outputs": [
        {
          "output_type": "execute_result",
          "data": {
            "text/plain": [
              "array([[False, False, False, ..., False, False, False],\n",
              "       [False, False, False, ..., False, False, False],\n",
              "       [False, False, False, ..., False, False, False],\n",
              "       ...,\n",
              "       [False, False, False, ..., False, False, False],\n",
              "       [False, False, False, ..., False, False, False],\n",
              "       [ True, False, False, ..., False, False, False]])"
            ]
          },
          "metadata": {},
          "execution_count": 36
        }
      ],
      "source": [
        "# y_test != y_pred\n",
        "np.not_equal(y_test, y_pred_new)"
      ]
    },
    {
      "cell_type": "code",
      "execution_count": 37,
      "metadata": {
        "colab": {
          "base_uri": "https://localhost:8080/"
        },
        "id": "WQBAGtko1tr5",
        "outputId": "4455d88a-9af1-4a8e-8e12-fab84137a195"
      },
      "outputs": [
        {
          "output_type": "execute_result",
          "data": {
            "text/plain": [
              "2466"
            ]
          },
          "metadata": {},
          "execution_count": 37
        }
      ],
      "source": [
        "# (y_test != y_pred).sum()\n",
        "np.not_equal(y_test, y_pred_new).sum()"
      ]
    },
    {
      "cell_type": "code",
      "source": [
        "np.equal(y_test, y_pred_new).sum()"
      ],
      "metadata": {
        "colab": {
          "base_uri": "https://localhost:8080/"
        },
        "id": "-DHW0lem22tV",
        "outputId": "cf5b0ed7-90c2-4553-a277-2ffad82e4a5d"
      },
      "execution_count": 38,
      "outputs": [
        {
          "output_type": "execute_result",
          "data": {
            "text/plain": [
              "97534"
            ]
          },
          "metadata": {},
          "execution_count": 38
        }
      ]
    },
    {
      "cell_type": "markdown",
      "metadata": {
        "id": "hf1YdPae1tr5"
      },
      "source": [
        "## Prediction"
      ]
    },
    {
      "cell_type": "code",
      "source": [
        "my_image = x_test[88]"
      ],
      "metadata": {
        "id": "AEs4QuiF3Iz4"
      },
      "execution_count": 39,
      "outputs": []
    },
    {
      "cell_type": "code",
      "source": [
        "my_image.shape"
      ],
      "metadata": {
        "colab": {
          "base_uri": "https://localhost:8080/"
        },
        "id": "CVeYg2tB3I2-",
        "outputId": "e5a55b97-3bdc-40d4-dd8d-f0fe15869499"
      },
      "execution_count": 40,
      "outputs": [
        {
          "output_type": "execute_result",
          "data": {
            "text/plain": [
              "(28, 28, 1)"
            ]
          },
          "metadata": {},
          "execution_count": 40
        }
      ]
    },
    {
      "cell_type": "code",
      "source": [
        "plt.imshow(my_image, cmap=\"gray\")\n",
        "plt.show()"
      ],
      "metadata": {
        "colab": {
          "base_uri": "https://localhost:8080/",
          "height": 430
        },
        "id": "ysEpB4E43Zln",
        "outputId": "94d90fbd-4231-4aa9-9af9-54bd9572cfee"
      },
      "execution_count": 41,
      "outputs": [
        {
          "output_type": "display_data",
          "data": {
            "text/plain": [
              "<Figure size 640x480 with 1 Axes>"
            ],
            "image/png": "[encoded data removed]"
          },
          "metadata": {}
        }
      ]
    },
    {
      "cell_type": "code",
      "source": [
        "pred_prob = model.predict(np.expand_dims(my_image, 0) > 0.5).astype(\"int32\")\n",
        "pred_prob"
      ],
      "metadata": {
        "colab": {
          "base_uri": "https://localhost:8080/"
        },
        "id": "YMYyjBIz3ZpK",
        "outputId": "2f316498-26c0-4c3b-cad2-8a1ea8ac3c5e"
      },
      "execution_count": 42,
      "outputs": [
        {
          "output_type": "stream",
          "name": "stdout",
          "text": [
            "1/1 [==============================] - 0s 310ms/step\n"
          ]
        },
        {
          "output_type": "execute_result",
          "data": {
            "text/plain": [
              "array([[0, 0, 0, 0, 0, 0, 0, 0, 0, 0]], dtype=int32)"
            ]
          },
          "metadata": {},
          "execution_count": 42
        }
      ]
    },
    {
      "cell_type": "code",
      "source": [
        "# SHAPE --> (num_images, width, height, color_channels)\n",
        "y_pred = np.argmax(pred_prob)\n",
        "y_pred"
      ],
      "metadata": {
        "colab": {
          "base_uri": "https://localhost:8080/"
        },
        "id": "5x2sVac13Zsk",
        "outputId": "a86bce64-e124-48f1-b036-1de838deb1f2"
      },
      "execution_count": 43,
      "outputs": [
        {
          "output_type": "execute_result",
          "data": {
            "text/plain": [
              "0"
            ]
          },
          "metadata": {},
          "execution_count": 43
        }
      ]
    },
    {
      "cell_type": "code",
      "source": [
        "model.save(\"cnn-1.h5\")"
      ],
      "metadata": {
        "colab": {
          "base_uri": "https://localhost:8080/"
        },
        "id": "1eSAVf6H4srj",
        "outputId": "59702713-5e2f-4e61-c16a-6a674afbe62f"
      },
      "execution_count": 44,
      "outputs": [
        {
          "output_type": "stream",
          "name": "stderr",
          "text": [
            "/usr/local/lib/python3.10/dist-packages/keras/src/engine/training.py:3079: UserWarning: You are saving your model as an HDF5 file via `model.save()`. This file format is considered legacy. We recommend using instead the native Keras format, e.g. `model.save('my_model.keras')`.\n",
            "  saving_api.save_model(\n"
          ]
        }
      ]
    },
    {
      "cell_type": "markdown",
      "source": [
        "# Using the saved model"
      ],
      "metadata": {
        "id": "Pvwe63Gz4iPT"
      }
    },
    {
      "cell_type": "code",
      "source": [
        "model_n = tf.keras.models.load_model(\"cnn-1.h5\")"
      ],
      "metadata": {
        "id": "-7DYE7md4kKx"
      },
      "execution_count": 45,
      "outputs": []
    },
    {
      "cell_type": "code",
      "source": [
        "pred_n = model_n.predict(np.expand_dims(x_test[88], 0))"
      ],
      "metadata": {
        "colab": {
          "base_uri": "https://localhost:8080/"
        },
        "id": "0O9KrvTR4kOF",
        "outputId": "773a3aaf-6799-4de6-cbf4-05f13a25679d"
      },
      "execution_count": 46,
      "outputs": [
        {
          "output_type": "stream",
          "name": "stdout",
          "text": [
            "1/1 [==============================] - 0s 149ms/step\n"
          ]
        }
      ]
    },
    {
      "cell_type": "code",
      "source": [
        "np.argmax(pred_n)"
      ],
      "metadata": {
        "colab": {
          "base_uri": "https://localhost:8080/"
        },
        "id": "Evn7NJXB4kRR",
        "outputId": "f2f7595f-3239-4891-8447-a8faed652875"
      },
      "execution_count": 47,
      "outputs": [
        {
          "output_type": "execute_result",
          "data": {
            "text/plain": [
              "0"
            ]
          },
          "metadata": {},
          "execution_count": 47
        }
      ]
    },
    {
      "cell_type": "code",
      "source": [
        "plt.imshow(x_test[88].reshape(28, 28))\n",
        "plt.show()"
      ],
      "metadata": {
        "colab": {
          "base_uri": "https://localhost:8080/",
          "height": 430
        },
        "id": "H9YsY9SB4_BB",
        "outputId": "77ad5d67-7d7b-44ba-c5a0-944154072c21"
      },
      "execution_count": 48,
      "outputs": [
        {
          "output_type": "display_data",
          "data": {
            "text/plain": [
              "<Figure size 640x480 with 1 Axes>"
            ],
            "image/png": "[encoded data removed]"
          },
          "metadata": {}
        }
      ]
    },
    {
      "cell_type": "markdown",
      "metadata": {
        "id": "2meSHzxk1tr5"
      },
      "source": [
        "# End of Assignment"
      ]
    },
    {
      "cell_type": "markdown",
      "metadata": {
        "id": "iFgqnIaD1tr5"
      },
      "source": [
        "___\n",
        "\n",
        "<p style=\"text-align: center;\"><img src=\"https://docs.google.com/uc?id=1lY0Uj5R04yMY3-ZppPWxqCr5pvBLYPnV\" class=\"img-fluid\" alt=\"CLRSWY\"></p>\n",
        "\n",
        "___"
      ]
    }
  ],
  "metadata": {
    "kernelspec": {
      "display_name": "Python 3",
      "name": "python3"
    },
    "language_info": {
      "codemirror_mode": {
        "name": "ipython",
        "version": 3
      },
      "file_extension": ".py",
      "mimetype": "text/x-python",
      "name": "python",
      "nbconvert_exporter": "python",
      "pygments_lexer": "ipython3",
      "version": "3.7.6"
    },
    "toc": {
      "base_numbering": 1,
      "nav_menu": {},
      "number_sections": false,
      "sideBar": true,
      "skip_h1_title": false,
      "title_cell": "Table of Contents",
      "title_sidebar": "Contents",
      "toc_cell": false,
      "toc_position": {},
      "toc_section_display": true,
      "toc_window_display": true
    },
    "colab": {
      "provenance": [],
      "gpuType": "T4"
    },
    "accelerator": "GPU"
  },
  "nbformat": 4,
  "nbformat_minor": 0
}